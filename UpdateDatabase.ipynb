{
 "cells": [
  {
   "cell_type": "markdown",
   "metadata": {},
   "source": [
    "# Update database"
   ]
  },
  {
   "cell_type": "code",
   "execution_count": null,
   "metadata": {},
   "outputs": [],
   "source": [
    "import pandas as pd # library for data analsysis\n",
    "#!conda install -c anaconda sqlalchemy --yes\n",
    "import sqlalchemy\n",
    "#!pip install psycopg2 \n",
    "import psycopg2 "
   ]
  },
  {
   "cell_type": "code",
   "execution_count": null,
   "metadata": {},
   "outputs": [],
   "source": [
    "from opencage.geocoder import OpenCageGeocode\n",
    "key = 'dc8aedff5e7d4bd196dafea349ce3cb8'\n",
    "geocoder = OpenCageGeocode(key)\n",
    "query = 'Jakarta, Indonesia'  \n",
    "results = geocoder.geocode(query)"
   ]
  },
  {
   "cell_type": "code",
   "execution_count": null,
   "metadata": {},
   "outputs": [],
   "source": [
    "nIn = 0\n",
    "nf = 0"
   ]
  },
  {
   "cell_type": "code",
   "execution_count": null,
   "metadata": {},
   "outputs": [],
   "source": [
    "# Read in the data Covid-19 cases per district (28 May,2020)\n",
    "df_cases_postgre = pd.read_csv(\"https://raw.githubusercontent.com/cahyati/GIS_Approach_on_Covid19/master/Standar%20Kelurahan%20Data%20Corona%20(20%20September%202020%20Pukul%2010.00).csv\")\n",
    "# View the top rows of the dataset\n",
    "df_cases_postgre"
   ]
  },
  {
   "cell_type": "code",
   "execution_count": null,
   "metadata": {},
   "outputs": [],
   "source": [
    "FID_cases = []\n",
    "\n",
    "for index, row in df_cases_postgre.iterrows():\n",
    "    nf = nf + 1\n",
    "    cases = nf\n",
    "    FID_cases.append(cases)\n",
    "print(FID_cases)"
   ]
  },
  {
   "cell_type": "code",
   "execution_count": null,
   "metadata": {},
   "outputs": [],
   "source": [
    "df_cases_postgre.insert(0,\"FID\",FID_cases)\n",
    "df_cases_postgre"
   ]
  },
  {
   "cell_type": "code",
   "execution_count": null,
   "metadata": {},
   "outputs": [],
   "source": [
    "# Get latitude and longitude of all districts\n",
    "list_lat = []   # create empty lists for latitude\n",
    "list_long = []  # create empty lists for longitude\n",
    "for index, row in df_cases_postgre.iterrows(): # iterate over rows in dataframe\n",
    "    District = row['nama_kelurahan']       \n",
    "    query = str(District)+', Jakarta'\n",
    "    results = geocoder.geocode(query)   \n",
    "    lat = results[0]['geometry']['lat']\n",
    "    long = results[0]['geometry']['lng']\n",
    "    list_lat.append(lat)\n",
    "    list_long.append(long)\n",
    "# create new columns from lists    \n",
    "df_cases_postgre ['Latitude'] = list_lat   \n",
    "df_cases_postgre ['Longitude'] = list_long\n",
    "df_cases_postgre "
   ]
  },
  {
   "cell_type": "code",
   "execution_count": null,
   "metadata": {},
   "outputs": [],
   "source": [
    "print(nIn)\n",
    "print(nf)"
   ]
  },
  {
   "cell_type": "code",
   "execution_count": null,
   "metadata": {},
   "outputs": [],
   "source": [
    "# Connect to database (Note: The package psychopg2 is required for Postgres to work with SQLAlchemy)\n",
    "engine = sqlalchemy.create_engine(\"postgres://postgres:p@ssw0rdswg@localhost/Covid19\")\n",
    "con = engine.connect()"
   ]
  },
  {
   "cell_type": "code",
   "execution_count": null,
   "metadata": {},
   "outputs": [],
   "source": [
    "table_cases = 'Covid19TDB'\n",
    "df_cases_postgre.to_sql(table_cases, con)"
   ]
  },
  {
   "cell_type": "code",
   "execution_count": null,
   "metadata": {},
   "outputs": [],
   "source": []
  },
  {
   "cell_type": "code",
   "execution_count": null,
   "metadata": {},
   "outputs": [],
   "source": [
    "#nIn = 267\n",
    "#nf = 267\n",
    "nIn=534 \n",
    "nf=534 "
   ]
  },
  {
   "cell_type": "code",
   "execution_count": null,
   "metadata": {},
   "outputs": [],
   "source": [
    "# Read in the data Covid-19 cases per district (2020)\n",
    "df_cases_postgre = pd.read_csv(\"https://raw.githubusercontent.com/cahyati/GIS_Approach_on_Covid19/master/Standar%20Kelurahan%20Data%20Corona%20(21%20September%202020%20Pukul%2010.00).csv\")\n",
    "# View the top rows of the dataset\n",
    "df_cases_postgre"
   ]
  },
  {
   "cell_type": "code",
   "execution_count": null,
   "metadata": {},
   "outputs": [],
   "source": [
    "FID_cases = []\n",
    "\n",
    "for index, row in df_cases_postgre.iterrows():\n",
    "    nf = nf + 1\n",
    "    cases = nf\n",
    "    FID_cases.append(cases)\n",
    "print(FID_cases)"
   ]
  },
  {
   "cell_type": "code",
   "execution_count": null,
   "metadata": {},
   "outputs": [],
   "source": [
    "index_cases = []\n",
    "for index, row in df_cases_postgre.iterrows():\n",
    "    index_cases.append(nIn)\n",
    "    nIn = nIn + 1\n",
    "print(index_cases)"
   ]
  },
  {
   "cell_type": "code",
   "execution_count": null,
   "metadata": {},
   "outputs": [],
   "source": [
    "df_cases_postgre.insert(0,\"FID\",FID_cases)\n",
    "df_cases_postgre"
   ]
  },
  {
   "cell_type": "code",
   "execution_count": null,
   "metadata": {
    "scrolled": true
   },
   "outputs": [],
   "source": [
    "df_cases_postgre.insert(0,\"index\",index_cases)\n",
    "df_cases_postgre "
   ]
  },
  {
   "cell_type": "code",
   "execution_count": null,
   "metadata": {},
   "outputs": [],
   "source": [
    "# Get latitude and longitude of all districts\n",
    "list_lat = []   # create empty lists for latitude\n",
    "list_long = []  # create empty lists for longitude\n",
    "for index, row in df_cases_postgre.iterrows(): # iterate over rows in dataframe\n",
    "    District = row['nama_kelurahan']       \n",
    "    query = str(District)+', Jakarta'\n",
    "    results = geocoder.geocode(query)   \n",
    "    lat = results[0]['geometry']['lat']\n",
    "    long = results[0]['geometry']['lng']\n",
    "    list_lat.append(lat)\n",
    "    list_long.append(long)\n",
    "# create new columns from lists    \n",
    "df_cases_postgre ['Latitude'] = list_lat   \n",
    "df_cases_postgre ['Longitude'] = list_long\n",
    "df_cases_postgre "
   ]
  },
  {
   "cell_type": "code",
   "execution_count": null,
   "metadata": {},
   "outputs": [],
   "source": [
    "print(nIn)\n",
    "print(nf)"
   ]
  },
  {
   "cell_type": "code",
   "execution_count": null,
   "metadata": {},
   "outputs": [],
   "source": [
    "df_cases_postgre.to_sql(table_cases, con, if_exists = 'append', index=nIn)"
   ]
  },
  {
   "cell_type": "code",
   "execution_count": null,
   "metadata": {},
   "outputs": [],
   "source": []
  },
  {
   "cell_type": "code",
   "execution_count": null,
   "metadata": {},
   "outputs": [],
   "source": []
  },
  {
   "cell_type": "code",
   "execution_count": null,
   "metadata": {},
   "outputs": [],
   "source": [
    "https://raw.githubusercontent.com/cahyati/GIS_Approach_on_Covid19/master/Standar%20Kelurahan%20Data%20Corona%20(20%20September%202020%20Pukul%2010.00).csv"
   ]
  },
  {
   "cell_type": "code",
   "execution_count": null,
   "metadata": {},
   "outputs": [],
   "source": [
    "https://raw.githubusercontent.com/cahyati/GIS_Approach_on_Covid19/master/Standar%20Kelurahan%20Data%20Corona%20(21%20September%202020%20Pukul%2010.00).csv"
   ]
  },
  {
   "cell_type": "code",
   "execution_count": null,
   "metadata": {},
   "outputs": [],
   "source": [
    "https://raw.githubusercontent.com/cahyati/GIS_Approach_on_Covid19/master/Standar%20Kelurahan%20Data%20Corona%20(22%20September%202020%20Pukul%2010.00).csv"
   ]
  }
 ],
 "metadata": {
  "kernelspec": {
   "display_name": "Python 3",
   "language": "python",
   "name": "python3"
  },
  "language_info": {
   "codemirror_mode": {
    "name": "ipython",
    "version": 3
   },
   "file_extension": ".py",
   "mimetype": "text/x-python",
   "name": "python",
   "nbconvert_exporter": "python",
   "pygments_lexer": "ipython3",
   "version": "3.7.6"
  }
 },
 "nbformat": 4,
 "nbformat_minor": 4
}
